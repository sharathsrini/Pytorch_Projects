{
  "nbformat": 4,
  "nbformat_minor": 0,
  "metadata": {
    "colab": {
      "name": "Pytorch_2.ipynb",
      "version": "0.3.2",
      "provenance": [],
      "include_colab_link": true
    },
    "kernelspec": {
      "name": "python3",
      "display_name": "Python 3"
    }
  },
  "cells": [
    {
      "cell_type": "markdown",
      "metadata": {
        "id": "view-in-github",
        "colab_type": "text"
      },
      "source": [
        "[View in Colaboratory](https://colab.research.google.com/github/sharathsrini/Pytorch_Projects/blob/master/Pytorch_2.ipynb)"
      ]
    },
    {
      "metadata": {
        "id": "Ga2Lt_dtTpOZ",
        "colab_type": "text"
      },
      "cell_type": "markdown",
      "source": [
        "## Neural Style Transfer\n",
        "The Neural-Style, or Neural-Transfer, is an algorithm that takes as input a content-image (e.g. a turtle), a style-image (e.g. artistic waves) and return the content of the content-image as if it was ‘painted’ using the artistic style of the style-image:\n",
        "\n",
        "![alt text](https://cdn-images-1.medium.com/max/800/1*uIlgYKjp-1ZboXK8ff6ztg.jpeg)\n",
        "\n",
        "\n",
        "This got me to thinking – what would other cool machine learning art tools look like? For example! Sometimes I make drawings, like a drawing of a cat. What if machine learning could automatically transform my drawing into a similar-but-better cat drawing? That would be fun!\n",
        "\n",
        "I started telling this idea to my friend, and she was like “Sharath, that sounds like you just read some hacker news headlines about generative neural networks and made this up”. Which was essentially correct!\n",
        "\n",
        "So I wanted to spend a little bit of time understanding how these machine learning art tools actually work, by understanding the math they’re based on (instead of some vague intuitive idea). I’m going to start with A Neural Algorithm of Artistic Style because it’s a short paper and it’s written in a pretty understandable way.\n",
        "\n"
      ]
    },
    {
      "metadata": {
        "id": "vcBM1WHGUolw",
        "colab_type": "text"
      },
      "cell_type": "markdown",
      "source": [
        "We all have used apps like Prisma and Lucid, but ever wondered how these things works? Like we give a photo from our camera roll and select a design to mix both the images and we get a new image which has the content of our input image and style of the design image. In the world of deep learning this is called style transfer."
      ]
    },
    {
      "metadata": {
        "id": "tlIchAAPU_MG",
        "colab_type": "text"
      },
      "cell_type": "markdown",
      "source": [
        "## How does it work?\n",
        "The principle is simple: we define two distances:\n",
        "* DC - one for the content  \n",
        "* DS - one for the style \n",
        "\n",
        "DC measures how different the content is between two images, while DS measures how different the style is between two images. Then, we take a third image, the input, (e.g. a with noise), and we transform it in order to both minimize its content-distance with the content-image and its style-distance with the style-image."
      ]
    },
    {
      "metadata": {
        "id": "Cik9CckUUpob",
        "colab_type": "code",
        "colab": {}
      },
      "cell_type": "code",
      "source": [
        "!pip install torch\n",
        "!pip install torchvision"
      ],
      "execution_count": 0,
      "outputs": []
    },
    {
      "metadata": {
        "id": "-imE5M91UFoQ",
        "colab_type": "code",
        "colab": {}
      },
      "cell_type": "code",
      "source": [
        ""
      ],
      "execution_count": 0,
      "outputs": []
    }
  ]
}